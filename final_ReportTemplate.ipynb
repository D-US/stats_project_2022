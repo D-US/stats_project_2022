{
  "cells": [
    {
      "cell_type": "markdown",
      "metadata": {
        "id": "view-in-github",
        "colab_type": "text"
      },
      "source": [
        "<a href=\"https://colab.research.google.com/github/D-US/stats_project_2022/blob/main/final_ReportTemplate.ipynb\" target=\"_parent\"><img src=\"https://colab.research.google.com/assets/colab-badge.svg\" alt=\"Open In Colab\"/></a>"
      ]
    },
    {
      "cell_type": "markdown",
      "metadata": {
        "id": "EgihD6Kirc1G"
      },
      "source": [
        "# INFO-F-422 -  Statistical Foundations of Machine Learning \n",
        "\n",
        "### Student 1 - __[student1@ulb.ac.be](mailto:student1@ulb.ac.be) - Student ID 123456__\n",
        "### Student 2 - __[student2@vub.ac.be](mailto:student2@ulb.ac.be) - Student ID 789012__\n",
        "### Student 3 - __[student3@ulb.ac.be](mailto:student3@ulb.ac.be) - Student ID 345678__\n",
        "\n",
        "### Video presentation: www.youtube.com/abcd1234\n",
        "\n",
        "## Project Title\n"
      ]
    },
    {
      "cell_type": "markdown",
      "metadata": {
        "id": "K9Z_UhOzrc1V"
      },
      "source": [
        "# Introduction\n"
      ]
    },
    {
      "cell_type": "markdown",
      "source": [
        "#1. Import packages"
      ],
      "metadata": {
        "id": "OqT68pL1sDga"
      }
    },
    {
      "cell_type": "markdown",
      "metadata": {
        "id": "4ukBsGkArc1W"
      },
      "source": [
        "# Data preprocessing\n",
        "\n",
        "## Missing value imputation\n",
        "\n",
        "## Feature engineering\n",
        "\n",
        "## Feature selection\n",
        "\n"
      ]
    },
    {
      "cell_type": "code",
      "source": [
        "#All the packages that are going to be used\n",
        "\n",
        " "
      ],
      "metadata": {
        "id": "ntoJOY-PsN7G"
      },
      "execution_count": null,
      "outputs": []
    },
    {
      "cell_type": "markdown",
      "source": [
        "#2.Import data"
      ],
      "metadata": {
        "id": "JkQDdFuar5sc"
      }
    },
    {
      "cell_type": "code",
      "source": [
        "set.seed(2)\n",
        "library(readr) \n",
        "df_train_features<-read.csv('/content/training_set_features.csv',stringsAsFactors = T)\n",
        "df_train_labels<-read.csv('/content/training_set_labels.csv',stringsAsFactors = T)\n",
        "df_test_features<-read.csv('/content/test_set_features.csv',stringsAsFactors = T)\n",
        "#print(summary(data))"
      ],
      "metadata": {
        "id": "ZfyHsLe4suLp"
      },
      "execution_count": null,
      "outputs": []
    },
    {
      "cell_type": "markdown",
      "source": [
        ""
      ],
      "metadata": {
        "id": "DU-dQtsI3djb"
      }
    },
    {
      "cell_type": "markdown",
      "source": [
        "#3.View the csv data on a table form format "
      ],
      "metadata": {
        "id": "_mRez0_D1UwT"
      }
    },
    {
      "cell_type": "code",
      "source": [
        "head(df_train_features, 2)"
      ],
      "metadata": {
        "colab": {
          "base_uri": "https://localhost:8080/",
          "height": 198
        },
        "id": "XjqKKAvS1fFu",
        "outputId": "acb7c358-d77d-4ae2-e1f8-facd85df1d68"
      },
      "execution_count": null,
      "outputs": [
        {
          "output_type": "display_data",
          "data": {
            "text/html": [
              "<table class=\"dataframe\">\n",
              "<caption>A data.frame: 2 × 36</caption>\n",
              "<thead>\n",
              "\t<tr><th></th><th scope=col>respondent_id</th><th scope=col>h1n1_concern</th><th scope=col>h1n1_knowledge</th><th scope=col>behavioral_antiviral_meds</th><th scope=col>behavioral_avoidance</th><th scope=col>behavioral_face_mask</th><th scope=col>behavioral_wash_hands</th><th scope=col>behavioral_large_gatherings</th><th scope=col>behavioral_outside_home</th><th scope=col>behavioral_touch_face</th><th scope=col>⋯</th><th scope=col>income_poverty</th><th scope=col>marital_status</th><th scope=col>rent_or_own</th><th scope=col>employment_status</th><th scope=col>hhs_geo_region</th><th scope=col>census_msa</th><th scope=col>household_adults</th><th scope=col>household_children</th><th scope=col>employment_industry</th><th scope=col>employment_occupation</th></tr>\n",
              "\t<tr><th></th><th scope=col>&lt;int&gt;</th><th scope=col>&lt;int&gt;</th><th scope=col>&lt;int&gt;</th><th scope=col>&lt;int&gt;</th><th scope=col>&lt;int&gt;</th><th scope=col>&lt;int&gt;</th><th scope=col>&lt;int&gt;</th><th scope=col>&lt;int&gt;</th><th scope=col>&lt;int&gt;</th><th scope=col>&lt;int&gt;</th><th scope=col>⋯</th><th scope=col>&lt;fct&gt;</th><th scope=col>&lt;fct&gt;</th><th scope=col>&lt;fct&gt;</th><th scope=col>&lt;fct&gt;</th><th scope=col>&lt;fct&gt;</th><th scope=col>&lt;fct&gt;</th><th scope=col>&lt;int&gt;</th><th scope=col>&lt;int&gt;</th><th scope=col>&lt;fct&gt;</th><th scope=col>&lt;fct&gt;</th></tr>\n",
              "</thead>\n",
              "<tbody>\n",
              "\t<tr><th scope=row>1</th><td>0</td><td>1</td><td>0</td><td>0</td><td>0</td><td>0</td><td>0</td><td>0</td><td>1</td><td>1</td><td>⋯</td><td>Below Poverty</td><td>Not Married</td><td>Own </td><td>Not in Labor Force</td><td>oxchjgsf</td><td>Non-MSA                 </td><td>0</td><td>0</td><td>        </td><td>        </td></tr>\n",
              "\t<tr><th scope=row>2</th><td>1</td><td>3</td><td>2</td><td>0</td><td>1</td><td>0</td><td>1</td><td>0</td><td>1</td><td>1</td><td>⋯</td><td>Below Poverty</td><td>Not Married</td><td>Rent</td><td>Employed          </td><td>bhuqouqj</td><td>MSA, Not Principle  City</td><td>0</td><td>0</td><td>pxcmvdjn</td><td>xgwztkwe</td></tr>\n",
              "</tbody>\n",
              "</table>\n"
            ],
            "text/markdown": "\nA data.frame: 2 × 36\n\n| <!--/--> | respondent_id &lt;int&gt; | h1n1_concern &lt;int&gt; | h1n1_knowledge &lt;int&gt; | behavioral_antiviral_meds &lt;int&gt; | behavioral_avoidance &lt;int&gt; | behavioral_face_mask &lt;int&gt; | behavioral_wash_hands &lt;int&gt; | behavioral_large_gatherings &lt;int&gt; | behavioral_outside_home &lt;int&gt; | behavioral_touch_face &lt;int&gt; | ⋯ ⋯ | income_poverty &lt;fct&gt; | marital_status &lt;fct&gt; | rent_or_own &lt;fct&gt; | employment_status &lt;fct&gt; | hhs_geo_region &lt;fct&gt; | census_msa &lt;fct&gt; | household_adults &lt;int&gt; | household_children &lt;int&gt; | employment_industry &lt;fct&gt; | employment_occupation &lt;fct&gt; |\n|---|---|---|---|---|---|---|---|---|---|---|---|---|---|---|---|---|---|---|---|---|---|\n| 1 | 0 | 1 | 0 | 0 | 0 | 0 | 0 | 0 | 1 | 1 | ⋯ | Below Poverty | Not Married | Own  | Not in Labor Force | oxchjgsf | Non-MSA                  | 0 | 0 | <!----> | <!----> |\n| 2 | 1 | 3 | 2 | 0 | 1 | 0 | 1 | 0 | 1 | 1 | ⋯ | Below Poverty | Not Married | Rent | Employed           | bhuqouqj | MSA, Not Principle  City | 0 | 0 | pxcmvdjn | xgwztkwe |\n\n",
            "text/latex": "A data.frame: 2 × 36\n\\begin{tabular}{r|lllllllllllllllllllll}\n  & respondent\\_id & h1n1\\_concern & h1n1\\_knowledge & behavioral\\_antiviral\\_meds & behavioral\\_avoidance & behavioral\\_face\\_mask & behavioral\\_wash\\_hands & behavioral\\_large\\_gatherings & behavioral\\_outside\\_home & behavioral\\_touch\\_face & ⋯ & income\\_poverty & marital\\_status & rent\\_or\\_own & employment\\_status & hhs\\_geo\\_region & census\\_msa & household\\_adults & household\\_children & employment\\_industry & employment\\_occupation\\\\\n  & <int> & <int> & <int> & <int> & <int> & <int> & <int> & <int> & <int> & <int> & ⋯ & <fct> & <fct> & <fct> & <fct> & <fct> & <fct> & <int> & <int> & <fct> & <fct>\\\\\n\\hline\n\t1 & 0 & 1 & 0 & 0 & 0 & 0 & 0 & 0 & 1 & 1 & ⋯ & Below Poverty & Not Married & Own  & Not in Labor Force & oxchjgsf & Non-MSA                  & 0 & 0 &          &         \\\\\n\t2 & 1 & 3 & 2 & 0 & 1 & 0 & 1 & 0 & 1 & 1 & ⋯ & Below Poverty & Not Married & Rent & Employed           & bhuqouqj & MSA, Not Principle  City & 0 & 0 & pxcmvdjn & xgwztkwe\\\\\n\\end{tabular}\n",
            "text/plain": [
              "  respondent_id h1n1_concern h1n1_knowledge behavioral_antiviral_meds\n",
              "1 0             1            0              0                        \n",
              "2 1             3            2              0                        \n",
              "  behavioral_avoidance behavioral_face_mask behavioral_wash_hands\n",
              "1 0                    0                    0                    \n",
              "2 1                    0                    1                    \n",
              "  behavioral_large_gatherings behavioral_outside_home behavioral_touch_face ⋯\n",
              "1 0                           1                       1                     ⋯\n",
              "2 0                           1                       1                     ⋯\n",
              "  income_poverty marital_status rent_or_own employment_status  hhs_geo_region\n",
              "1 Below Poverty  Not Married    Own         Not in Labor Force oxchjgsf      \n",
              "2 Below Poverty  Not Married    Rent        Employed           bhuqouqj      \n",
              "  census_msa               household_adults household_children\n",
              "1 Non-MSA                  0                0                 \n",
              "2 MSA, Not Principle  City 0                0                 \n",
              "  employment_industry employment_occupation\n",
              "1                                          \n",
              "2 pxcmvdjn            xgwztkwe             "
            ]
          },
          "metadata": {}
        }
      ]
    },
    {
      "cell_type": "code",
      "source": [
        "head(df_test_features, 2)"
      ],
      "metadata": {
        "colab": {
          "base_uri": "https://localhost:8080/",
          "height": 216
        },
        "id": "K1biQ-Mm1mvT",
        "outputId": "ef0535c7-6219-4831-b3a3-3b3cb420280b"
      },
      "execution_count": null,
      "outputs": [
        {
          "output_type": "display_data",
          "data": {
            "text/html": [
              "<table class=\"dataframe\">\n",
              "<caption>A data.frame: 2 × 36</caption>\n",
              "<thead>\n",
              "\t<tr><th></th><th scope=col>respondent_id</th><th scope=col>h1n1_concern</th><th scope=col>h1n1_knowledge</th><th scope=col>behavioral_antiviral_meds</th><th scope=col>behavioral_avoidance</th><th scope=col>behavioral_face_mask</th><th scope=col>behavioral_wash_hands</th><th scope=col>behavioral_large_gatherings</th><th scope=col>behavioral_outside_home</th><th scope=col>behavioral_touch_face</th><th scope=col>⋯</th><th scope=col>income_poverty</th><th scope=col>marital_status</th><th scope=col>rent_or_own</th><th scope=col>employment_status</th><th scope=col>hhs_geo_region</th><th scope=col>census_msa</th><th scope=col>household_adults</th><th scope=col>household_children</th><th scope=col>employment_industry</th><th scope=col>employment_occupation</th></tr>\n",
              "\t<tr><th></th><th scope=col>&lt;int&gt;</th><th scope=col>&lt;int&gt;</th><th scope=col>&lt;int&gt;</th><th scope=col>&lt;int&gt;</th><th scope=col>&lt;int&gt;</th><th scope=col>&lt;int&gt;</th><th scope=col>&lt;int&gt;</th><th scope=col>&lt;int&gt;</th><th scope=col>&lt;int&gt;</th><th scope=col>&lt;int&gt;</th><th scope=col>⋯</th><th scope=col>&lt;fct&gt;</th><th scope=col>&lt;fct&gt;</th><th scope=col>&lt;fct&gt;</th><th scope=col>&lt;fct&gt;</th><th scope=col>&lt;fct&gt;</th><th scope=col>&lt;fct&gt;</th><th scope=col>&lt;int&gt;</th><th scope=col>&lt;int&gt;</th><th scope=col>&lt;fct&gt;</th><th scope=col>&lt;fct&gt;</th></tr>\n",
              "</thead>\n",
              "<tbody>\n",
              "\t<tr><th scope=row>1</th><td>26707</td><td>2</td><td>2</td><td>0</td><td>1</td><td>0</td><td>1</td><td>1</td><td>0</td><td>1</td><td>⋯</td><td><span style=white-space:pre-wrap>&gt; $75,000    </span></td><td>Not Married</td><td>Rent</td><td>Employed</td><td>mlyzmhmf</td><td><span style=white-space:pre-wrap>MSA, Not Principle  City</span></td><td>1</td><td>0</td><td>atmlpfrs</td><td>hfxkjkmi</td></tr>\n",
              "\t<tr><th scope=row>2</th><td>26708</td><td>1</td><td>1</td><td>0</td><td>0</td><td>0</td><td>0</td><td>0</td><td>0</td><td>0</td><td>⋯</td><td>Below Poverty</td><td>Not Married</td><td>Rent</td><td>Employed</td><td>bhuqouqj</td><td>Non-MSA                 </td><td>3</td><td>0</td><td>atmlpfrs</td><td>xqwwgdyp</td></tr>\n",
              "</tbody>\n",
              "</table>\n"
            ],
            "text/markdown": "\nA data.frame: 2 × 36\n\n| <!--/--> | respondent_id &lt;int&gt; | h1n1_concern &lt;int&gt; | h1n1_knowledge &lt;int&gt; | behavioral_antiviral_meds &lt;int&gt; | behavioral_avoidance &lt;int&gt; | behavioral_face_mask &lt;int&gt; | behavioral_wash_hands &lt;int&gt; | behavioral_large_gatherings &lt;int&gt; | behavioral_outside_home &lt;int&gt; | behavioral_touch_face &lt;int&gt; | ⋯ ⋯ | income_poverty &lt;fct&gt; | marital_status &lt;fct&gt; | rent_or_own &lt;fct&gt; | employment_status &lt;fct&gt; | hhs_geo_region &lt;fct&gt; | census_msa &lt;fct&gt; | household_adults &lt;int&gt; | household_children &lt;int&gt; | employment_industry &lt;fct&gt; | employment_occupation &lt;fct&gt; |\n|---|---|---|---|---|---|---|---|---|---|---|---|---|---|---|---|---|---|---|---|---|---|\n| 1 | 26707 | 2 | 2 | 0 | 1 | 0 | 1 | 1 | 0 | 1 | ⋯ | &gt; $75,000     | Not Married | Rent | Employed | mlyzmhmf | MSA, Not Principle  City | 1 | 0 | atmlpfrs | hfxkjkmi |\n| 2 | 26708 | 1 | 1 | 0 | 0 | 0 | 0 | 0 | 0 | 0 | ⋯ | Below Poverty | Not Married | Rent | Employed | bhuqouqj | Non-MSA                  | 3 | 0 | atmlpfrs | xqwwgdyp |\n\n",
            "text/latex": "A data.frame: 2 × 36\n\\begin{tabular}{r|lllllllllllllllllllll}\n  & respondent\\_id & h1n1\\_concern & h1n1\\_knowledge & behavioral\\_antiviral\\_meds & behavioral\\_avoidance & behavioral\\_face\\_mask & behavioral\\_wash\\_hands & behavioral\\_large\\_gatherings & behavioral\\_outside\\_home & behavioral\\_touch\\_face & ⋯ & income\\_poverty & marital\\_status & rent\\_or\\_own & employment\\_status & hhs\\_geo\\_region & census\\_msa & household\\_adults & household\\_children & employment\\_industry & employment\\_occupation\\\\\n  & <int> & <int> & <int> & <int> & <int> & <int> & <int> & <int> & <int> & <int> & ⋯ & <fct> & <fct> & <fct> & <fct> & <fct> & <fct> & <int> & <int> & <fct> & <fct>\\\\\n\\hline\n\t1 & 26707 & 2 & 2 & 0 & 1 & 0 & 1 & 1 & 0 & 1 & ⋯ & > \\$75,000     & Not Married & Rent & Employed & mlyzmhmf & MSA, Not Principle  City & 1 & 0 & atmlpfrs & hfxkjkmi\\\\\n\t2 & 26708 & 1 & 1 & 0 & 0 & 0 & 0 & 0 & 0 & 0 & ⋯ & Below Poverty & Not Married & Rent & Employed & bhuqouqj & Non-MSA                  & 3 & 0 & atmlpfrs & xqwwgdyp\\\\\n\\end{tabular}\n",
            "text/plain": [
              "  respondent_id h1n1_concern h1n1_knowledge behavioral_antiviral_meds\n",
              "1 26707         2            2              0                        \n",
              "2 26708         1            1              0                        \n",
              "  behavioral_avoidance behavioral_face_mask behavioral_wash_hands\n",
              "1 1                    0                    1                    \n",
              "2 0                    0                    0                    \n",
              "  behavioral_large_gatherings behavioral_outside_home behavioral_touch_face ⋯\n",
              "1 1                           0                       1                     ⋯\n",
              "2 0                           0                       0                     ⋯\n",
              "  income_poverty marital_status rent_or_own employment_status hhs_geo_region\n",
              "1 > $75,000      Not Married    Rent        Employed          mlyzmhmf      \n",
              "2 Below Poverty  Not Married    Rent        Employed          bhuqouqj      \n",
              "  census_msa               household_adults household_children\n",
              "1 MSA, Not Principle  City 1                0                 \n",
              "2 Non-MSA                  3                0                 \n",
              "  employment_industry employment_occupation\n",
              "1 atmlpfrs            hfxkjkmi             \n",
              "2 atmlpfrs            xqwwgdyp             "
            ]
          },
          "metadata": {}
        }
      ]
    },
    {
      "cell_type": "code",
      "source": [
        "head(df_train_labels, 2)"
      ],
      "metadata": {
        "colab": {
          "base_uri": "https://localhost:8080/",
          "height": 161
        },
        "id": "eVxUCRrT113f",
        "outputId": "0bcd12e0-6e80-415e-be18-aa55f8116818"
      },
      "execution_count": null,
      "outputs": [
        {
          "output_type": "display_data",
          "data": {
            "text/html": [
              "<table class=\"dataframe\">\n",
              "<caption>A data.frame: 2 × 3</caption>\n",
              "<thead>\n",
              "\t<tr><th></th><th scope=col>respondent_id</th><th scope=col>h1n1_vaccine</th><th scope=col>seasonal_vaccine</th></tr>\n",
              "\t<tr><th></th><th scope=col>&lt;int&gt;</th><th scope=col>&lt;int&gt;</th><th scope=col>&lt;int&gt;</th></tr>\n",
              "</thead>\n",
              "<tbody>\n",
              "\t<tr><th scope=row>1</th><td>0</td><td>0</td><td>0</td></tr>\n",
              "\t<tr><th scope=row>2</th><td>1</td><td>0</td><td>1</td></tr>\n",
              "</tbody>\n",
              "</table>\n"
            ],
            "text/markdown": "\nA data.frame: 2 × 3\n\n| <!--/--> | respondent_id &lt;int&gt; | h1n1_vaccine &lt;int&gt; | seasonal_vaccine &lt;int&gt; |\n|---|---|---|---|\n| 1 | 0 | 0 | 0 |\n| 2 | 1 | 0 | 1 |\n\n",
            "text/latex": "A data.frame: 2 × 3\n\\begin{tabular}{r|lll}\n  & respondent\\_id & h1n1\\_vaccine & seasonal\\_vaccine\\\\\n  & <int> & <int> & <int>\\\\\n\\hline\n\t1 & 0 & 0 & 0\\\\\n\t2 & 1 & 0 & 1\\\\\n\\end{tabular}\n",
            "text/plain": [
              "  respondent_id h1n1_vaccine seasonal_vaccine\n",
              "1 0             0            0               \n",
              "2 1             0            1               "
            ]
          },
          "metadata": {}
        }
      ]
    },
    {
      "cell_type": "markdown",
      "source": [
        "#4. Missing value imputation"
      ],
      "metadata": {
        "id": "s9uRy88k2Jqs"
      }
    },
    {
      "cell_type": "markdown",
      "source": [
        "##4.1 Count missing values"
      ],
      "metadata": {
        "id": "mqvgopy62SJn"
      }
    },
    {
      "cell_type": "code",
      "source": [
        "#function to count the percentage of missing values in a dataframe\n",
        "df_count_missing_values<-function(data_frame) {\n",
        "  na_count_per_col <- colSums(is.na(data_frame))\n",
        "  df <- data.frame(na_count_per_col)\n",
        "  df_total_row <- nrow(data_frame)\n",
        "  df <- cbind('features' = rownames(df), df, (df/df_total_row))\n",
        "  rownames(df) <- 1:nrow(df)\n",
        "  colnames(df) <- c('features','na_count_per_col','na_count_frequency')\n",
        "  df\n",
        "  \n",
        "}\n"
      ],
      "metadata": {
        "id": "H5YCkLK01c_T"
      },
      "execution_count": null,
      "outputs": []
    },
    {
      "cell_type": "code",
      "source": [
        "#chec NA for train_features\n",
        "df <- df_count_missing_values(df_train_features)\n",
        "df"
      ],
      "metadata": {
        "colab": {
          "base_uri": "https://localhost:8080/",
          "height": 1000
        },
        "id": "jFvr5zBZ-vaA",
        "outputId": "e34f9fb6-0f69-4238-925b-04a2576bc647"
      },
      "execution_count": null,
      "outputs": [
        {
          "output_type": "display_data",
          "data": {
            "text/html": [
              "<table class=\"dataframe\">\n",
              "<caption>A data.frame: 36 × 3</caption>\n",
              "<thead>\n",
              "\t<tr><th></th><th scope=col>features</th><th scope=col>na_count_per_col</th><th scope=col>na_count_frequency</th></tr>\n",
              "\t<tr><th></th><th scope=col>&lt;chr&gt;</th><th scope=col>&lt;dbl&gt;</th><th scope=col>&lt;dbl&gt;</th></tr>\n",
              "</thead>\n",
              "<tbody>\n",
              "\t<tr><th scope=row>1</th><td>respondent_id              </td><td>    0</td><td>0.000000000</td></tr>\n",
              "\t<tr><th scope=row>2</th><td>h1n1_concern               </td><td>   92</td><td>0.003444790</td></tr>\n",
              "\t<tr><th scope=row>3</th><td>h1n1_knowledge             </td><td>  116</td><td>0.004343431</td></tr>\n",
              "\t<tr><th scope=row>4</th><td>behavioral_antiviral_meds  </td><td>   71</td><td>0.002658479</td></tr>\n",
              "\t<tr><th scope=row>5</th><td>behavioral_avoidance       </td><td>  208</td><td>0.007788220</td></tr>\n",
              "\t<tr><th scope=row>6</th><td>behavioral_face_mask       </td><td>   19</td><td>0.000711424</td></tr>\n",
              "\t<tr><th scope=row>7</th><td>behavioral_wash_hands      </td><td>   42</td><td>0.001572621</td></tr>\n",
              "\t<tr><th scope=row>8</th><td>behavioral_large_gatherings</td><td>   87</td><td>0.003257573</td></tr>\n",
              "\t<tr><th scope=row>9</th><td>behavioral_outside_home    </td><td>   82</td><td>0.003070356</td></tr>\n",
              "\t<tr><th scope=row>10</th><td>behavioral_touch_face      </td><td>  128</td><td>0.004792751</td></tr>\n",
              "\t<tr><th scope=row>11</th><td>doctor_recc_h1n1           </td><td> 2160</td><td>0.080877673</td></tr>\n",
              "\t<tr><th scope=row>12</th><td>doctor_recc_seasonal       </td><td> 2160</td><td>0.080877673</td></tr>\n",
              "\t<tr><th scope=row>13</th><td>chronic_med_condition      </td><td>  971</td><td>0.036357509</td></tr>\n",
              "\t<tr><th scope=row>14</th><td>child_under_6_months       </td><td>  820</td><td>0.030703561</td></tr>\n",
              "\t<tr><th scope=row>15</th><td>health_worker              </td><td>  804</td><td>0.030104467</td></tr>\n",
              "\t<tr><th scope=row>16</th><td>health_insurance           </td><td>12274</td><td>0.459579885</td></tr>\n",
              "\t<tr><th scope=row>17</th><td>opinion_h1n1_vacc_effective</td><td>  391</td><td>0.014640356</td></tr>\n",
              "\t<tr><th scope=row>18</th><td>opinion_h1n1_risk          </td><td>  388</td><td>0.014528026</td></tr>\n",
              "\t<tr><th scope=row>19</th><td>opinion_h1n1_sick_from_vacc</td><td>  395</td><td>0.014790130</td></tr>\n",
              "\t<tr><th scope=row>20</th><td>opinion_seas_vacc_effective</td><td>  462</td><td>0.017298836</td></tr>\n",
              "\t<tr><th scope=row>21</th><td>opinion_seas_risk          </td><td>  514</td><td>0.019245891</td></tr>\n",
              "\t<tr><th scope=row>22</th><td>opinion_seas_sick_from_vacc</td><td>  537</td><td>0.020107088</td></tr>\n",
              "\t<tr><th scope=row>23</th><td>age_group                  </td><td>    0</td><td>0.000000000</td></tr>\n",
              "\t<tr><th scope=row>24</th><td>education                  </td><td>    0</td><td>0.000000000</td></tr>\n",
              "\t<tr><th scope=row>25</th><td>race                       </td><td>    0</td><td>0.000000000</td></tr>\n",
              "\t<tr><th scope=row>26</th><td>sex                        </td><td>    0</td><td>0.000000000</td></tr>\n",
              "\t<tr><th scope=row>27</th><td>income_poverty             </td><td>    0</td><td>0.000000000</td></tr>\n",
              "\t<tr><th scope=row>28</th><td>marital_status             </td><td>    0</td><td>0.000000000</td></tr>\n",
              "\t<tr><th scope=row>29</th><td>rent_or_own                </td><td>    0</td><td>0.000000000</td></tr>\n",
              "\t<tr><th scope=row>30</th><td>employment_status          </td><td>    0</td><td>0.000000000</td></tr>\n",
              "\t<tr><th scope=row>31</th><td>hhs_geo_region             </td><td>    0</td><td>0.000000000</td></tr>\n",
              "\t<tr><th scope=row>32</th><td>census_msa                 </td><td>    0</td><td>0.000000000</td></tr>\n",
              "\t<tr><th scope=row>33</th><td>household_adults           </td><td>  249</td><td>0.009323398</td></tr>\n",
              "\t<tr><th scope=row>34</th><td>household_children         </td><td>  249</td><td>0.009323398</td></tr>\n",
              "\t<tr><th scope=row>35</th><td>employment_industry        </td><td>    0</td><td>0.000000000</td></tr>\n",
              "\t<tr><th scope=row>36</th><td>employment_occupation      </td><td>    0</td><td>0.000000000</td></tr>\n",
              "</tbody>\n",
              "</table>\n"
            ],
            "text/markdown": "\nA data.frame: 36 × 3\n\n| <!--/--> | features &lt;chr&gt; | na_count_per_col &lt;dbl&gt; | na_count_frequency &lt;dbl&gt; |\n|---|---|---|---|\n| 1 | respondent_id               |     0 | 0.000000000 |\n| 2 | h1n1_concern                |    92 | 0.003444790 |\n| 3 | h1n1_knowledge              |   116 | 0.004343431 |\n| 4 | behavioral_antiviral_meds   |    71 | 0.002658479 |\n| 5 | behavioral_avoidance        |   208 | 0.007788220 |\n| 6 | behavioral_face_mask        |    19 | 0.000711424 |\n| 7 | behavioral_wash_hands       |    42 | 0.001572621 |\n| 8 | behavioral_large_gatherings |    87 | 0.003257573 |\n| 9 | behavioral_outside_home     |    82 | 0.003070356 |\n| 10 | behavioral_touch_face       |   128 | 0.004792751 |\n| 11 | doctor_recc_h1n1            |  2160 | 0.080877673 |\n| 12 | doctor_recc_seasonal        |  2160 | 0.080877673 |\n| 13 | chronic_med_condition       |   971 | 0.036357509 |\n| 14 | child_under_6_months        |   820 | 0.030703561 |\n| 15 | health_worker               |   804 | 0.030104467 |\n| 16 | health_insurance            | 12274 | 0.459579885 |\n| 17 | opinion_h1n1_vacc_effective |   391 | 0.014640356 |\n| 18 | opinion_h1n1_risk           |   388 | 0.014528026 |\n| 19 | opinion_h1n1_sick_from_vacc |   395 | 0.014790130 |\n| 20 | opinion_seas_vacc_effective |   462 | 0.017298836 |\n| 21 | opinion_seas_risk           |   514 | 0.019245891 |\n| 22 | opinion_seas_sick_from_vacc |   537 | 0.020107088 |\n| 23 | age_group                   |     0 | 0.000000000 |\n| 24 | education                   |     0 | 0.000000000 |\n| 25 | race                        |     0 | 0.000000000 |\n| 26 | sex                         |     0 | 0.000000000 |\n| 27 | income_poverty              |     0 | 0.000000000 |\n| 28 | marital_status              |     0 | 0.000000000 |\n| 29 | rent_or_own                 |     0 | 0.000000000 |\n| 30 | employment_status           |     0 | 0.000000000 |\n| 31 | hhs_geo_region              |     0 | 0.000000000 |\n| 32 | census_msa                  |     0 | 0.000000000 |\n| 33 | household_adults            |   249 | 0.009323398 |\n| 34 | household_children          |   249 | 0.009323398 |\n| 35 | employment_industry         |     0 | 0.000000000 |\n| 36 | employment_occupation       |     0 | 0.000000000 |\n\n",
            "text/latex": "A data.frame: 36 × 3\n\\begin{tabular}{r|lll}\n  & features & na\\_count\\_per\\_col & na\\_count\\_frequency\\\\\n  & <chr> & <dbl> & <dbl>\\\\\n\\hline\n\t1 & respondent\\_id               &     0 & 0.000000000\\\\\n\t2 & h1n1\\_concern                &    92 & 0.003444790\\\\\n\t3 & h1n1\\_knowledge              &   116 & 0.004343431\\\\\n\t4 & behavioral\\_antiviral\\_meds   &    71 & 0.002658479\\\\\n\t5 & behavioral\\_avoidance        &   208 & 0.007788220\\\\\n\t6 & behavioral\\_face\\_mask        &    19 & 0.000711424\\\\\n\t7 & behavioral\\_wash\\_hands       &    42 & 0.001572621\\\\\n\t8 & behavioral\\_large\\_gatherings &    87 & 0.003257573\\\\\n\t9 & behavioral\\_outside\\_home     &    82 & 0.003070356\\\\\n\t10 & behavioral\\_touch\\_face       &   128 & 0.004792751\\\\\n\t11 & doctor\\_recc\\_h1n1            &  2160 & 0.080877673\\\\\n\t12 & doctor\\_recc\\_seasonal        &  2160 & 0.080877673\\\\\n\t13 & chronic\\_med\\_condition       &   971 & 0.036357509\\\\\n\t14 & child\\_under\\_6\\_months        &   820 & 0.030703561\\\\\n\t15 & health\\_worker               &   804 & 0.030104467\\\\\n\t16 & health\\_insurance            & 12274 & 0.459579885\\\\\n\t17 & opinion\\_h1n1\\_vacc\\_effective &   391 & 0.014640356\\\\\n\t18 & opinion\\_h1n1\\_risk           &   388 & 0.014528026\\\\\n\t19 & opinion\\_h1n1\\_sick\\_from\\_vacc &   395 & 0.014790130\\\\\n\t20 & opinion\\_seas\\_vacc\\_effective &   462 & 0.017298836\\\\\n\t21 & opinion\\_seas\\_risk           &   514 & 0.019245891\\\\\n\t22 & opinion\\_seas\\_sick\\_from\\_vacc &   537 & 0.020107088\\\\\n\t23 & age\\_group                   &     0 & 0.000000000\\\\\n\t24 & education                   &     0 & 0.000000000\\\\\n\t25 & race                        &     0 & 0.000000000\\\\\n\t26 & sex                         &     0 & 0.000000000\\\\\n\t27 & income\\_poverty              &     0 & 0.000000000\\\\\n\t28 & marital\\_status              &     0 & 0.000000000\\\\\n\t29 & rent\\_or\\_own                 &     0 & 0.000000000\\\\\n\t30 & employment\\_status           &     0 & 0.000000000\\\\\n\t31 & hhs\\_geo\\_region              &     0 & 0.000000000\\\\\n\t32 & census\\_msa                  &     0 & 0.000000000\\\\\n\t33 & household\\_adults            &   249 & 0.009323398\\\\\n\t34 & household\\_children          &   249 & 0.009323398\\\\\n\t35 & employment\\_industry         &     0 & 0.000000000\\\\\n\t36 & employment\\_occupation       &     0 & 0.000000000\\\\\n\\end{tabular}\n",
            "text/plain": [
              "   features                    na_count_per_col na_count_frequency\n",
              "1  respondent_id                   0            0.000000000       \n",
              "2  h1n1_concern                   92            0.003444790       \n",
              "3  h1n1_knowledge                116            0.004343431       \n",
              "4  behavioral_antiviral_meds      71            0.002658479       \n",
              "5  behavioral_avoidance          208            0.007788220       \n",
              "6  behavioral_face_mask           19            0.000711424       \n",
              "7  behavioral_wash_hands          42            0.001572621       \n",
              "8  behavioral_large_gatherings    87            0.003257573       \n",
              "9  behavioral_outside_home        82            0.003070356       \n",
              "10 behavioral_touch_face         128            0.004792751       \n",
              "11 doctor_recc_h1n1             2160            0.080877673       \n",
              "12 doctor_recc_seasonal         2160            0.080877673       \n",
              "13 chronic_med_condition         971            0.036357509       \n",
              "14 child_under_6_months          820            0.030703561       \n",
              "15 health_worker                 804            0.030104467       \n",
              "16 health_insurance            12274            0.459579885       \n",
              "17 opinion_h1n1_vacc_effective   391            0.014640356       \n",
              "18 opinion_h1n1_risk             388            0.014528026       \n",
              "19 opinion_h1n1_sick_from_vacc   395            0.014790130       \n",
              "20 opinion_seas_vacc_effective   462            0.017298836       \n",
              "21 opinion_seas_risk             514            0.019245891       \n",
              "22 opinion_seas_sick_from_vacc   537            0.020107088       \n",
              "23 age_group                       0            0.000000000       \n",
              "24 education                       0            0.000000000       \n",
              "25 race                            0            0.000000000       \n",
              "26 sex                             0            0.000000000       \n",
              "27 income_poverty                  0            0.000000000       \n",
              "28 marital_status                  0            0.000000000       \n",
              "29 rent_or_own                     0            0.000000000       \n",
              "30 employment_status               0            0.000000000       \n",
              "31 hhs_geo_region                  0            0.000000000       \n",
              "32 census_msa                      0            0.000000000       \n",
              "33 household_adults              249            0.009323398       \n",
              "34 household_children            249            0.009323398       \n",
              "35 employment_industry             0            0.000000000       \n",
              "36 employment_occupation           0            0.000000000       "
            ]
          },
          "metadata": {}
        }
      ]
    },
    {
      "cell_type": "code",
      "source": [
        "#tesst NA for labels\n",
        "df <- df_count_missing_values(df_train_labels)\n",
        "df"
      ],
      "metadata": {
        "colab": {
          "base_uri": "https://localhost:8080/",
          "height": 192
        },
        "id": "iEUrgzVp_Bbl",
        "outputId": "9a6f13aa-b5ce-477b-c478-af66d2bfb097"
      },
      "execution_count": null,
      "outputs": [
        {
          "output_type": "display_data",
          "data": {
            "text/html": [
              "<table class=\"dataframe\">\n",
              "<caption>A data.frame: 3 × 3</caption>\n",
              "<thead>\n",
              "\t<tr><th></th><th scope=col>features</th><th scope=col>na_count_per_col</th><th scope=col>na_count_frequency</th></tr>\n",
              "\t<tr><th></th><th scope=col>&lt;chr&gt;</th><th scope=col>&lt;dbl&gt;</th><th scope=col>&lt;dbl&gt;</th></tr>\n",
              "</thead>\n",
              "<tbody>\n",
              "\t<tr><th scope=row>1</th><td>respondent_id   </td><td>0</td><td>0</td></tr>\n",
              "\t<tr><th scope=row>2</th><td>h1n1_vaccine    </td><td>0</td><td>0</td></tr>\n",
              "\t<tr><th scope=row>3</th><td>seasonal_vaccine</td><td>0</td><td>0</td></tr>\n",
              "</tbody>\n",
              "</table>\n"
            ],
            "text/markdown": "\nA data.frame: 3 × 3\n\n| <!--/--> | features &lt;chr&gt; | na_count_per_col &lt;dbl&gt; | na_count_frequency &lt;dbl&gt; |\n|---|---|---|---|\n| 1 | respondent_id    | 0 | 0 |\n| 2 | h1n1_vaccine     | 0 | 0 |\n| 3 | seasonal_vaccine | 0 | 0 |\n\n",
            "text/latex": "A data.frame: 3 × 3\n\\begin{tabular}{r|lll}\n  & features & na\\_count\\_per\\_col & na\\_count\\_frequency\\\\\n  & <chr> & <dbl> & <dbl>\\\\\n\\hline\n\t1 & respondent\\_id    & 0 & 0\\\\\n\t2 & h1n1\\_vaccine     & 0 & 0\\\\\n\t3 & seasonal\\_vaccine & 0 & 0\\\\\n\\end{tabular}\n",
            "text/plain": [
              "  features         na_count_per_col na_count_frequency\n",
              "1 respondent_id    0                0                 \n",
              "2 h1n1_vaccine     0                0                 \n",
              "3 seasonal_vaccine 0                0                 "
            ]
          },
          "metadata": {}
        }
      ]
    },
    {
      "cell_type": "markdown",
      "source": [
        "#4.2 Comments on missing values"
      ],
      "metadata": {
        "id": "NZcsq7cuD0uc"
      }
    },
    {
      "cell_type": "markdown",
      "source": [
        "##4.3 Methods used to dealing with missing values"
      ],
      "metadata": {
        "id": "xKh1BX4O2aU3"
      }
    },
    {
      "cell_type": "code",
      "source": [
        ""
      ],
      "metadata": {
        "id": "BFbX_E0b-ubu"
      },
      "execution_count": null,
      "outputs": []
    },
    {
      "cell_type": "code",
      "source": [
        ""
      ],
      "metadata": {
        "id": "KgmDZzcG1c6O"
      },
      "execution_count": null,
      "outputs": []
    },
    {
      "cell_type": "code",
      "source": [
        ""
      ],
      "metadata": {
        "id": "_r5cVmCa2jUA"
      },
      "execution_count": null,
      "outputs": []
    },
    {
      "cell_type": "markdown",
      "source": [
        "#5. Features' Engineering"
      ],
      "metadata": {
        "id": "CVlt6flA3ukS"
      }
    },
    {
      "cell_type": "code",
      "source": [
        ""
      ],
      "metadata": {
        "id": "2WnA0LKnDfDS"
      },
      "execution_count": null,
      "outputs": []
    },
    {
      "cell_type": "markdown",
      "source": [
        "##5.1 Features engineering on behaviors\n",
        "behavioral_antiviral_meds,behavioral_avoidance,behavioral_face_mask, \n",
        "behavioral_wash_hands, behavioral_large_gatherings, behavioral_outside_home,\n",
        "behavioral_touch_face\n"
      ],
      "metadata": {
        "id": "LhNcsvRXGPpw"
      }
    },
    {
      "cell_type": "markdown",
      "source": [
        "***??????explanation needed********"
      ],
      "metadata": {
        "id": "PZEhBRIaWdNG"
      }
    },
    {
      "cell_type": "code",
      "source": [
        "cols <- c('behavioral_antiviral_meds','behavioral_avoidance','behavioral_face_mask', 'behavioral_wash_hands',\n",
        " 'behavioral_large_gatherings', 'behavioral_outside_home','behavioral_touch_face')\n",
        " behavior_df <- df_train_features[, cols]"
      ],
      "metadata": {
        "id": "MRjTmjaUHtsH"
      },
      "execution_count": null,
      "outputs": []
    },
    {
      "cell_type": "code",
      "source": [
        "#checks for NA\n",
        "df <- df_count_missing_values(behavior_df)\n",
        "df"
      ],
      "metadata": {
        "colab": {
          "base_uri": "https://localhost:8080/",
          "height": 317
        },
        "id": "YoFqRcG6JpO1",
        "outputId": "9097541b-a67e-4523-97b5-6620e4bc8215"
      },
      "execution_count": null,
      "outputs": [
        {
          "output_type": "display_data",
          "data": {
            "text/html": [
              "<table class=\"dataframe\">\n",
              "<caption>A data.frame: 7 × 3</caption>\n",
              "<thead>\n",
              "\t<tr><th></th><th scope=col>features</th><th scope=col>na_count_per_col</th><th scope=col>na_count_frequency</th></tr>\n",
              "\t<tr><th></th><th scope=col>&lt;chr&gt;</th><th scope=col>&lt;dbl&gt;</th><th scope=col>&lt;dbl&gt;</th></tr>\n",
              "</thead>\n",
              "<tbody>\n",
              "\t<tr><th scope=row>1</th><td>behavioral_antiviral_meds  </td><td> 71</td><td>0.002658479</td></tr>\n",
              "\t<tr><th scope=row>2</th><td>behavioral_avoidance       </td><td>208</td><td>0.007788220</td></tr>\n",
              "\t<tr><th scope=row>3</th><td>behavioral_face_mask       </td><td> 19</td><td>0.000711424</td></tr>\n",
              "\t<tr><th scope=row>4</th><td>behavioral_wash_hands      </td><td> 42</td><td>0.001572621</td></tr>\n",
              "\t<tr><th scope=row>5</th><td>behavioral_large_gatherings</td><td> 87</td><td>0.003257573</td></tr>\n",
              "\t<tr><th scope=row>6</th><td>behavioral_outside_home    </td><td> 82</td><td>0.003070356</td></tr>\n",
              "\t<tr><th scope=row>7</th><td>behavioral_touch_face      </td><td>128</td><td>0.004792751</td></tr>\n",
              "</tbody>\n",
              "</table>\n"
            ],
            "text/markdown": "\nA data.frame: 7 × 3\n\n| <!--/--> | features &lt;chr&gt; | na_count_per_col &lt;dbl&gt; | na_count_frequency &lt;dbl&gt; |\n|---|---|---|---|\n| 1 | behavioral_antiviral_meds   |  71 | 0.002658479 |\n| 2 | behavioral_avoidance        | 208 | 0.007788220 |\n| 3 | behavioral_face_mask        |  19 | 0.000711424 |\n| 4 | behavioral_wash_hands       |  42 | 0.001572621 |\n| 5 | behavioral_large_gatherings |  87 | 0.003257573 |\n| 6 | behavioral_outside_home     |  82 | 0.003070356 |\n| 7 | behavioral_touch_face       | 128 | 0.004792751 |\n\n",
            "text/latex": "A data.frame: 7 × 3\n\\begin{tabular}{r|lll}\n  & features & na\\_count\\_per\\_col & na\\_count\\_frequency\\\\\n  & <chr> & <dbl> & <dbl>\\\\\n\\hline\n\t1 & behavioral\\_antiviral\\_meds   &  71 & 0.002658479\\\\\n\t2 & behavioral\\_avoidance        & 208 & 0.007788220\\\\\n\t3 & behavioral\\_face\\_mask        &  19 & 0.000711424\\\\\n\t4 & behavioral\\_wash\\_hands       &  42 & 0.001572621\\\\\n\t5 & behavioral\\_large\\_gatherings &  87 & 0.003257573\\\\\n\t6 & behavioral\\_outside\\_home     &  82 & 0.003070356\\\\\n\t7 & behavioral\\_touch\\_face       & 128 & 0.004792751\\\\\n\\end{tabular}\n",
            "text/plain": [
              "  features                    na_count_per_col na_count_frequency\n",
              "1 behavioral_antiviral_meds    71              0.002658479       \n",
              "2 behavioral_avoidance        208              0.007788220       \n",
              "3 behavioral_face_mask         19              0.000711424       \n",
              "4 behavioral_wash_hands        42              0.001572621       \n",
              "5 behavioral_large_gatherings  87              0.003257573       \n",
              "6 behavioral_outside_home      82              0.003070356       \n",
              "7 behavioral_touch_face       128              0.004792751       "
            ]
          },
          "metadata": {}
        }
      ]
    },
    {
      "cell_type": "code",
      "source": [
        "#create the behaviors columns\n",
        "behavior_boolean_function <-function(x){ \n",
        "  sumv<-sum(na.omit(x))\n",
        "  if(sumv>=4){\n",
        "     return (as.integer(1))\n",
        "  }\n",
        "   return (as.integer(0))\n",
        "}\n",
        "\n",
        "df_train_features$behaviors <- apply(behavior_df, 1, behavior_boolean_function)\n",
        "head(df_train_features, 5)      "
      ],
      "metadata": {
        "colab": {
          "base_uri": "https://localhost:8080/",
          "height": 344
        },
        "id": "kdhPxMkqPd6E",
        "outputId": "d9b29100-19bb-4560-854c-34ae517e75da"
      },
      "execution_count": null,
      "outputs": [
        {
          "output_type": "display_data",
          "data": {
            "text/html": [
              "<table class=\"dataframe\">\n",
              "<caption>A data.frame: 5 × 37</caption>\n",
              "<thead>\n",
              "\t<tr><th></th><th scope=col>respondent_id</th><th scope=col>h1n1_concern</th><th scope=col>h1n1_knowledge</th><th scope=col>behavioral_antiviral_meds</th><th scope=col>behavioral_avoidance</th><th scope=col>behavioral_face_mask</th><th scope=col>behavioral_wash_hands</th><th scope=col>behavioral_large_gatherings</th><th scope=col>behavioral_outside_home</th><th scope=col>behavioral_touch_face</th><th scope=col>⋯</th><th scope=col>marital_status</th><th scope=col>rent_or_own</th><th scope=col>employment_status</th><th scope=col>hhs_geo_region</th><th scope=col>census_msa</th><th scope=col>household_adults</th><th scope=col>household_children</th><th scope=col>employment_industry</th><th scope=col>employment_occupation</th><th scope=col>behaviors</th></tr>\n",
              "\t<tr><th></th><th scope=col>&lt;int&gt;</th><th scope=col>&lt;int&gt;</th><th scope=col>&lt;int&gt;</th><th scope=col>&lt;int&gt;</th><th scope=col>&lt;int&gt;</th><th scope=col>&lt;int&gt;</th><th scope=col>&lt;int&gt;</th><th scope=col>&lt;int&gt;</th><th scope=col>&lt;int&gt;</th><th scope=col>&lt;int&gt;</th><th scope=col>⋯</th><th scope=col>&lt;fct&gt;</th><th scope=col>&lt;fct&gt;</th><th scope=col>&lt;fct&gt;</th><th scope=col>&lt;fct&gt;</th><th scope=col>&lt;fct&gt;</th><th scope=col>&lt;int&gt;</th><th scope=col>&lt;int&gt;</th><th scope=col>&lt;fct&gt;</th><th scope=col>&lt;fct&gt;</th><th scope=col>&lt;int&gt;</th></tr>\n",
              "</thead>\n",
              "<tbody>\n",
              "\t<tr><th scope=row>1</th><td>0</td><td>1</td><td>0</td><td>0</td><td>0</td><td>0</td><td>0</td><td>0</td><td>1</td><td>1</td><td>⋯</td><td>Not Married</td><td>Own </td><td>Not in Labor Force</td><td>oxchjgsf</td><td>Non-MSA                 </td><td>0</td><td>0</td><td>        </td><td>        </td><td>0</td></tr>\n",
              "\t<tr><th scope=row>2</th><td>1</td><td>3</td><td>2</td><td>0</td><td>1</td><td>0</td><td>1</td><td>0</td><td>1</td><td>1</td><td>⋯</td><td>Not Married</td><td>Rent</td><td>Employed          </td><td>bhuqouqj</td><td>MSA, Not Principle  City</td><td>0</td><td>0</td><td>pxcmvdjn</td><td>xgwztkwe</td><td>1</td></tr>\n",
              "\t<tr><th scope=row>3</th><td>2</td><td>1</td><td>1</td><td>0</td><td>1</td><td>0</td><td>0</td><td>0</td><td>0</td><td>0</td><td>⋯</td><td>Not Married</td><td>Own </td><td>Employed          </td><td>qufhixun</td><td>MSA, Not Principle  City</td><td>2</td><td>0</td><td>rucpziij</td><td>xtkaffoo</td><td>0</td></tr>\n",
              "\t<tr><th scope=row>4</th><td>3</td><td>1</td><td>1</td><td>0</td><td>1</td><td>0</td><td>1</td><td>1</td><td>0</td><td>0</td><td>⋯</td><td>Not Married</td><td>Rent</td><td>Not in Labor Force</td><td>lrircsnp</td><td>MSA, Principle City     </td><td>0</td><td>0</td><td>        </td><td>        </td><td>0</td></tr>\n",
              "\t<tr><th scope=row>5</th><td>4</td><td>2</td><td>1</td><td>0</td><td>1</td><td>0</td><td>1</td><td>1</td><td>0</td><td>1</td><td>⋯</td><td>Married    </td><td>Own </td><td>Employed          </td><td>qufhixun</td><td>MSA, Not Principle  City</td><td>1</td><td>0</td><td>wxleyezf</td><td>emcorrxb</td><td>1</td></tr>\n",
              "</tbody>\n",
              "</table>\n"
            ],
            "text/markdown": "\nA data.frame: 5 × 37\n\n| <!--/--> | respondent_id &lt;int&gt; | h1n1_concern &lt;int&gt; | h1n1_knowledge &lt;int&gt; | behavioral_antiviral_meds &lt;int&gt; | behavioral_avoidance &lt;int&gt; | behavioral_face_mask &lt;int&gt; | behavioral_wash_hands &lt;int&gt; | behavioral_large_gatherings &lt;int&gt; | behavioral_outside_home &lt;int&gt; | behavioral_touch_face &lt;int&gt; | ⋯ ⋯ | marital_status &lt;fct&gt; | rent_or_own &lt;fct&gt; | employment_status &lt;fct&gt; | hhs_geo_region &lt;fct&gt; | census_msa &lt;fct&gt; | household_adults &lt;int&gt; | household_children &lt;int&gt; | employment_industry &lt;fct&gt; | employment_occupation &lt;fct&gt; | behaviors &lt;int&gt; |\n|---|---|---|---|---|---|---|---|---|---|---|---|---|---|---|---|---|---|---|---|---|---|\n| 1 | 0 | 1 | 0 | 0 | 0 | 0 | 0 | 0 | 1 | 1 | ⋯ | Not Married | Own  | Not in Labor Force | oxchjgsf | Non-MSA                  | 0 | 0 | <!----> | <!----> | 0 |\n| 2 | 1 | 3 | 2 | 0 | 1 | 0 | 1 | 0 | 1 | 1 | ⋯ | Not Married | Rent | Employed           | bhuqouqj | MSA, Not Principle  City | 0 | 0 | pxcmvdjn | xgwztkwe | 1 |\n| 3 | 2 | 1 | 1 | 0 | 1 | 0 | 0 | 0 | 0 | 0 | ⋯ | Not Married | Own  | Employed           | qufhixun | MSA, Not Principle  City | 2 | 0 | rucpziij | xtkaffoo | 0 |\n| 4 | 3 | 1 | 1 | 0 | 1 | 0 | 1 | 1 | 0 | 0 | ⋯ | Not Married | Rent | Not in Labor Force | lrircsnp | MSA, Principle City      | 0 | 0 | <!----> | <!----> | 0 |\n| 5 | 4 | 2 | 1 | 0 | 1 | 0 | 1 | 1 | 0 | 1 | ⋯ | Married     | Own  | Employed           | qufhixun | MSA, Not Principle  City | 1 | 0 | wxleyezf | emcorrxb | 1 |\n\n",
            "text/latex": "A data.frame: 5 × 37\n\\begin{tabular}{r|lllllllllllllllllllll}\n  & respondent\\_id & h1n1\\_concern & h1n1\\_knowledge & behavioral\\_antiviral\\_meds & behavioral\\_avoidance & behavioral\\_face\\_mask & behavioral\\_wash\\_hands & behavioral\\_large\\_gatherings & behavioral\\_outside\\_home & behavioral\\_touch\\_face & ⋯ & marital\\_status & rent\\_or\\_own & employment\\_status & hhs\\_geo\\_region & census\\_msa & household\\_adults & household\\_children & employment\\_industry & employment\\_occupation & behaviors\\\\\n  & <int> & <int> & <int> & <int> & <int> & <int> & <int> & <int> & <int> & <int> & ⋯ & <fct> & <fct> & <fct> & <fct> & <fct> & <int> & <int> & <fct> & <fct> & <int>\\\\\n\\hline\n\t1 & 0 & 1 & 0 & 0 & 0 & 0 & 0 & 0 & 1 & 1 & ⋯ & Not Married & Own  & Not in Labor Force & oxchjgsf & Non-MSA                  & 0 & 0 &          &          & 0\\\\\n\t2 & 1 & 3 & 2 & 0 & 1 & 0 & 1 & 0 & 1 & 1 & ⋯ & Not Married & Rent & Employed           & bhuqouqj & MSA, Not Principle  City & 0 & 0 & pxcmvdjn & xgwztkwe & 1\\\\\n\t3 & 2 & 1 & 1 & 0 & 1 & 0 & 0 & 0 & 0 & 0 & ⋯ & Not Married & Own  & Employed           & qufhixun & MSA, Not Principle  City & 2 & 0 & rucpziij & xtkaffoo & 0\\\\\n\t4 & 3 & 1 & 1 & 0 & 1 & 0 & 1 & 1 & 0 & 0 & ⋯ & Not Married & Rent & Not in Labor Force & lrircsnp & MSA, Principle City      & 0 & 0 &          &          & 0\\\\\n\t5 & 4 & 2 & 1 & 0 & 1 & 0 & 1 & 1 & 0 & 1 & ⋯ & Married     & Own  & Employed           & qufhixun & MSA, Not Principle  City & 1 & 0 & wxleyezf & emcorrxb & 1\\\\\n\\end{tabular}\n",
            "text/plain": [
              "  respondent_id h1n1_concern h1n1_knowledge behavioral_antiviral_meds\n",
              "1 0             1            0              0                        \n",
              "2 1             3            2              0                        \n",
              "3 2             1            1              0                        \n",
              "4 3             1            1              0                        \n",
              "5 4             2            1              0                        \n",
              "  behavioral_avoidance behavioral_face_mask behavioral_wash_hands\n",
              "1 0                    0                    0                    \n",
              "2 1                    0                    1                    \n",
              "3 1                    0                    0                    \n",
              "4 1                    0                    1                    \n",
              "5 1                    0                    1                    \n",
              "  behavioral_large_gatherings behavioral_outside_home behavioral_touch_face ⋯\n",
              "1 0                           1                       1                     ⋯\n",
              "2 0                           1                       1                     ⋯\n",
              "3 0                           0                       0                     ⋯\n",
              "4 1                           0                       0                     ⋯\n",
              "5 1                           0                       1                     ⋯\n",
              "  marital_status rent_or_own employment_status  hhs_geo_region\n",
              "1 Not Married    Own         Not in Labor Force oxchjgsf      \n",
              "2 Not Married    Rent        Employed           bhuqouqj      \n",
              "3 Not Married    Own         Employed           qufhixun      \n",
              "4 Not Married    Rent        Not in Labor Force lrircsnp      \n",
              "5 Married        Own         Employed           qufhixun      \n",
              "  census_msa               household_adults household_children\n",
              "1 Non-MSA                  0                0                 \n",
              "2 MSA, Not Principle  City 0                0                 \n",
              "3 MSA, Not Principle  City 2                0                 \n",
              "4 MSA, Principle City      0                0                 \n",
              "5 MSA, Not Principle  City 1                0                 \n",
              "  employment_industry employment_occupation behaviors\n",
              "1                                           0        \n",
              "2 pxcmvdjn            xgwztkwe              1        \n",
              "3 rucpziij            xtkaffoo              0        \n",
              "4                                           0        \n",
              "5 wxleyezf            emcorrxb              1        "
            ]
          },
          "metadata": {}
        }
      ]
    },
    {
      "cell_type": "code",
      "source": [
        ""
      ],
      "metadata": {
        "id": "Q7eeVwA1VwyZ"
      },
      "execution_count": null,
      "outputs": []
    },
    {
      "cell_type": "markdown",
      "source": [
        "##5.1 Features engineering on opiniona\n",
        "opinion_h1n1_vacc_effective, opinion_h1n1_risk, opinion_h1n1_sick_from_vacc, opinion_seas_vacc_effective, opinion_seas_risk, opinion_seas_sick_from_vacc "
      ],
      "metadata": {
        "id": "ucNoqcdrVxi0"
      }
    },
    {
      "cell_type": "markdown",
      "source": [
        ""
      ],
      "metadata": {
        "id": "c1Hvr5YGWl7E"
      }
    },
    {
      "cell_type": "markdown",
      "source": [
        "***??????explanation needed********"
      ],
      "metadata": {
        "id": "aHtb25BJWnWX"
      }
    },
    {
      "cell_type": "code",
      "source": [
        "#opinion_h1n1\n",
        "cols_opinion_h1n1 <- c('opinion_h1n1_vacc_effective', 'opinion_h1n1_risk', 'opinion_h1n1_sick_from_vacc')\n",
        "df_opinion_h1n1 <- df_train_features[, cols_opinion_h1n1]\n",
        "head(df_opinion_h1n1, 3)"
      ],
      "metadata": {
        "colab": {
          "base_uri": "https://localhost:8080/",
          "height": 192
        },
        "id": "CX4BFocEZf_j",
        "outputId": "072b1a36-6910-4757-8f95-b59b45b236f5"
      },
      "execution_count": null,
      "outputs": [
        {
          "output_type": "display_data",
          "data": {
            "text/html": [
              "<table class=\"dataframe\">\n",
              "<caption>A data.frame: 3 × 3</caption>\n",
              "<thead>\n",
              "\t<tr><th></th><th scope=col>opinion_h1n1_vacc_effective</th><th scope=col>opinion_h1n1_risk</th><th scope=col>opinion_h1n1_sick_from_vacc</th></tr>\n",
              "\t<tr><th></th><th scope=col>&lt;int&gt;</th><th scope=col>&lt;int&gt;</th><th scope=col>&lt;int&gt;</th></tr>\n",
              "</thead>\n",
              "<tbody>\n",
              "\t<tr><th scope=row>1</th><td>3</td><td>1</td><td>2</td></tr>\n",
              "\t<tr><th scope=row>2</th><td>5</td><td>4</td><td>4</td></tr>\n",
              "\t<tr><th scope=row>3</th><td>3</td><td>1</td><td>1</td></tr>\n",
              "</tbody>\n",
              "</table>\n"
            ],
            "text/markdown": "\nA data.frame: 3 × 3\n\n| <!--/--> | opinion_h1n1_vacc_effective &lt;int&gt; | opinion_h1n1_risk &lt;int&gt; | opinion_h1n1_sick_from_vacc &lt;int&gt; |\n|---|---|---|---|\n| 1 | 3 | 1 | 2 |\n| 2 | 5 | 4 | 4 |\n| 3 | 3 | 1 | 1 |\n\n",
            "text/latex": "A data.frame: 3 × 3\n\\begin{tabular}{r|lll}\n  & opinion\\_h1n1\\_vacc\\_effective & opinion\\_h1n1\\_risk & opinion\\_h1n1\\_sick\\_from\\_vacc\\\\\n  & <int> & <int> & <int>\\\\\n\\hline\n\t1 & 3 & 1 & 2\\\\\n\t2 & 5 & 4 & 4\\\\\n\t3 & 3 & 1 & 1\\\\\n\\end{tabular}\n",
            "text/plain": [
              "  opinion_h1n1_vacc_effective opinion_h1n1_risk opinion_h1n1_sick_from_vacc\n",
              "1 3                           1                 2                          \n",
              "2 5                           4                 4                          \n",
              "3 3                           1                 1                          "
            ]
          },
          "metadata": {}
        }
      ]
    },
    {
      "cell_type": "code",
      "source": [
        "#create the opinion_h1n1 columns\n",
        "opinion_function <-function(x){   \n",
        "   return (as.integer(round(mean(na.omit(x))),1))\n",
        "}\n",
        "df_train_features$opinion_h1n1 <- apply(df_opinion_h1n1, 1, opinion_function)\n",
        "head(df_train_features, 5)      "
      ],
      "metadata": {
        "colab": {
          "base_uri": "https://localhost:8080/",
          "height": 344
        },
        "id": "7m5GpA7UcD2A",
        "outputId": "9d1a7007-e3b8-45ef-d125-373512ace21c"
      },
      "execution_count": null,
      "outputs": [
        {
          "output_type": "display_data",
          "data": {
            "text/html": [
              "<table class=\"dataframe\">\n",
              "<caption>A data.frame: 5 × 39</caption>\n",
              "<thead>\n",
              "\t<tr><th></th><th scope=col>respondent_id</th><th scope=col>h1n1_concern</th><th scope=col>h1n1_knowledge</th><th scope=col>behavioral_antiviral_meds</th><th scope=col>behavioral_avoidance</th><th scope=col>behavioral_face_mask</th><th scope=col>behavioral_wash_hands</th><th scope=col>behavioral_large_gatherings</th><th scope=col>behavioral_outside_home</th><th scope=col>behavioral_touch_face</th><th scope=col>⋯</th><th scope=col>employment_status</th><th scope=col>hhs_geo_region</th><th scope=col>census_msa</th><th scope=col>household_adults</th><th scope=col>household_children</th><th scope=col>employment_industry</th><th scope=col>employment_occupation</th><th scope=col>behaviors</th><th scope=col>opinion_h1n1</th><th scope=col>opinion_seas</th></tr>\n",
              "\t<tr><th></th><th scope=col>&lt;int&gt;</th><th scope=col>&lt;int&gt;</th><th scope=col>&lt;int&gt;</th><th scope=col>&lt;int&gt;</th><th scope=col>&lt;int&gt;</th><th scope=col>&lt;int&gt;</th><th scope=col>&lt;int&gt;</th><th scope=col>&lt;int&gt;</th><th scope=col>&lt;int&gt;</th><th scope=col>&lt;int&gt;</th><th scope=col>⋯</th><th scope=col>&lt;fct&gt;</th><th scope=col>&lt;fct&gt;</th><th scope=col>&lt;fct&gt;</th><th scope=col>&lt;int&gt;</th><th scope=col>&lt;int&gt;</th><th scope=col>&lt;fct&gt;</th><th scope=col>&lt;fct&gt;</th><th scope=col>&lt;int&gt;</th><th scope=col>&lt;int&gt;</th><th scope=col>&lt;int&gt;</th></tr>\n",
              "</thead>\n",
              "<tbody>\n",
              "\t<tr><th scope=row>1</th><td>0</td><td>1</td><td>0</td><td>0</td><td>0</td><td>0</td><td>0</td><td>0</td><td>1</td><td>1</td><td>⋯</td><td>Not in Labor Force</td><td>oxchjgsf</td><td>Non-MSA                 </td><td>0</td><td>0</td><td>        </td><td>        </td><td>0</td><td>2</td><td>1</td></tr>\n",
              "\t<tr><th scope=row>2</th><td>1</td><td>3</td><td>2</td><td>0</td><td>1</td><td>0</td><td>1</td><td>0</td><td>1</td><td>1</td><td>⋯</td><td>Employed          </td><td>bhuqouqj</td><td>MSA, Not Principle  City</td><td>0</td><td>0</td><td>pxcmvdjn</td><td>xgwztkwe</td><td>1</td><td>4</td><td>3</td></tr>\n",
              "\t<tr><th scope=row>3</th><td>2</td><td>1</td><td>1</td><td>0</td><td>1</td><td>0</td><td>0</td><td>0</td><td>0</td><td>0</td><td>⋯</td><td>Employed          </td><td>qufhixun</td><td>MSA, Not Principle  City</td><td>2</td><td>0</td><td>rucpziij</td><td>xtkaffoo</td><td>0</td><td>2</td><td>2</td></tr>\n",
              "\t<tr><th scope=row>4</th><td>3</td><td>1</td><td>1</td><td>0</td><td>1</td><td>0</td><td>1</td><td>1</td><td>0</td><td>0</td><td>⋯</td><td>Not in Labor Force</td><td>lrircsnp</td><td>MSA, Principle City     </td><td>0</td><td>0</td><td>        </td><td>        </td><td>0</td><td>4</td><td>3</td></tr>\n",
              "\t<tr><th scope=row>5</th><td>4</td><td>2</td><td>1</td><td>0</td><td>1</td><td>0</td><td>1</td><td>1</td><td>0</td><td>1</td><td>⋯</td><td>Employed          </td><td>qufhixun</td><td>MSA, Not Principle  City</td><td>1</td><td>0</td><td>wxleyezf</td><td>emcorrxb</td><td>1</td><td>3</td><td>2</td></tr>\n",
              "</tbody>\n",
              "</table>\n"
            ],
            "text/markdown": "\nA data.frame: 5 × 39\n\n| <!--/--> | respondent_id &lt;int&gt; | h1n1_concern &lt;int&gt; | h1n1_knowledge &lt;int&gt; | behavioral_antiviral_meds &lt;int&gt; | behavioral_avoidance &lt;int&gt; | behavioral_face_mask &lt;int&gt; | behavioral_wash_hands &lt;int&gt; | behavioral_large_gatherings &lt;int&gt; | behavioral_outside_home &lt;int&gt; | behavioral_touch_face &lt;int&gt; | ⋯ ⋯ | employment_status &lt;fct&gt; | hhs_geo_region &lt;fct&gt; | census_msa &lt;fct&gt; | household_adults &lt;int&gt; | household_children &lt;int&gt; | employment_industry &lt;fct&gt; | employment_occupation &lt;fct&gt; | behaviors &lt;int&gt; | opinion_h1n1 &lt;int&gt; | opinion_seas &lt;int&gt; |\n|---|---|---|---|---|---|---|---|---|---|---|---|---|---|---|---|---|---|---|---|---|---|\n| 1 | 0 | 1 | 0 | 0 | 0 | 0 | 0 | 0 | 1 | 1 | ⋯ | Not in Labor Force | oxchjgsf | Non-MSA                  | 0 | 0 | <!----> | <!----> | 0 | 2 | 1 |\n| 2 | 1 | 3 | 2 | 0 | 1 | 0 | 1 | 0 | 1 | 1 | ⋯ | Employed           | bhuqouqj | MSA, Not Principle  City | 0 | 0 | pxcmvdjn | xgwztkwe | 1 | 4 | 3 |\n| 3 | 2 | 1 | 1 | 0 | 1 | 0 | 0 | 0 | 0 | 0 | ⋯ | Employed           | qufhixun | MSA, Not Principle  City | 2 | 0 | rucpziij | xtkaffoo | 0 | 2 | 2 |\n| 4 | 3 | 1 | 1 | 0 | 1 | 0 | 1 | 1 | 0 | 0 | ⋯ | Not in Labor Force | lrircsnp | MSA, Principle City      | 0 | 0 | <!----> | <!----> | 0 | 4 | 3 |\n| 5 | 4 | 2 | 1 | 0 | 1 | 0 | 1 | 1 | 0 | 1 | ⋯ | Employed           | qufhixun | MSA, Not Principle  City | 1 | 0 | wxleyezf | emcorrxb | 1 | 3 | 2 |\n\n",
            "text/latex": "A data.frame: 5 × 39\n\\begin{tabular}{r|lllllllllllllllllllll}\n  & respondent\\_id & h1n1\\_concern & h1n1\\_knowledge & behavioral\\_antiviral\\_meds & behavioral\\_avoidance & behavioral\\_face\\_mask & behavioral\\_wash\\_hands & behavioral\\_large\\_gatherings & behavioral\\_outside\\_home & behavioral\\_touch\\_face & ⋯ & employment\\_status & hhs\\_geo\\_region & census\\_msa & household\\_adults & household\\_children & employment\\_industry & employment\\_occupation & behaviors & opinion\\_h1n1 & opinion\\_seas\\\\\n  & <int> & <int> & <int> & <int> & <int> & <int> & <int> & <int> & <int> & <int> & ⋯ & <fct> & <fct> & <fct> & <int> & <int> & <fct> & <fct> & <int> & <int> & <int>\\\\\n\\hline\n\t1 & 0 & 1 & 0 & 0 & 0 & 0 & 0 & 0 & 1 & 1 & ⋯ & Not in Labor Force & oxchjgsf & Non-MSA                  & 0 & 0 &          &          & 0 & 2 & 1\\\\\n\t2 & 1 & 3 & 2 & 0 & 1 & 0 & 1 & 0 & 1 & 1 & ⋯ & Employed           & bhuqouqj & MSA, Not Principle  City & 0 & 0 & pxcmvdjn & xgwztkwe & 1 & 4 & 3\\\\\n\t3 & 2 & 1 & 1 & 0 & 1 & 0 & 0 & 0 & 0 & 0 & ⋯ & Employed           & qufhixun & MSA, Not Principle  City & 2 & 0 & rucpziij & xtkaffoo & 0 & 2 & 2\\\\\n\t4 & 3 & 1 & 1 & 0 & 1 & 0 & 1 & 1 & 0 & 0 & ⋯ & Not in Labor Force & lrircsnp & MSA, Principle City      & 0 & 0 &          &          & 0 & 4 & 3\\\\\n\t5 & 4 & 2 & 1 & 0 & 1 & 0 & 1 & 1 & 0 & 1 & ⋯ & Employed           & qufhixun & MSA, Not Principle  City & 1 & 0 & wxleyezf & emcorrxb & 1 & 3 & 2\\\\\n\\end{tabular}\n",
            "text/plain": [
              "  respondent_id h1n1_concern h1n1_knowledge behavioral_antiviral_meds\n",
              "1 0             1            0              0                        \n",
              "2 1             3            2              0                        \n",
              "3 2             1            1              0                        \n",
              "4 3             1            1              0                        \n",
              "5 4             2            1              0                        \n",
              "  behavioral_avoidance behavioral_face_mask behavioral_wash_hands\n",
              "1 0                    0                    0                    \n",
              "2 1                    0                    1                    \n",
              "3 1                    0                    0                    \n",
              "4 1                    0                    1                    \n",
              "5 1                    0                    1                    \n",
              "  behavioral_large_gatherings behavioral_outside_home behavioral_touch_face ⋯\n",
              "1 0                           1                       1                     ⋯\n",
              "2 0                           1                       1                     ⋯\n",
              "3 0                           0                       0                     ⋯\n",
              "4 1                           0                       0                     ⋯\n",
              "5 1                           0                       1                     ⋯\n",
              "  employment_status  hhs_geo_region census_msa               household_adults\n",
              "1 Not in Labor Force oxchjgsf       Non-MSA                  0               \n",
              "2 Employed           bhuqouqj       MSA, Not Principle  City 0               \n",
              "3 Employed           qufhixun       MSA, Not Principle  City 2               \n",
              "4 Not in Labor Force lrircsnp       MSA, Principle City      0               \n",
              "5 Employed           qufhixun       MSA, Not Principle  City 1               \n",
              "  household_children employment_industry employment_occupation behaviors\n",
              "1 0                                                            0        \n",
              "2 0                  pxcmvdjn            xgwztkwe              1        \n",
              "3 0                  rucpziij            xtkaffoo              0        \n",
              "4 0                                                            0        \n",
              "5 0                  wxleyezf            emcorrxb              1        \n",
              "  opinion_h1n1 opinion_seas\n",
              "1 2            1           \n",
              "2 4            3           \n",
              "3 2            2           \n",
              "4 4            3           \n",
              "5 3            2           "
            ]
          },
          "metadata": {}
        }
      ]
    },
    {
      "cell_type": "code",
      "source": [
        "#opinion_seas\n",
        "cols_opinion_seas <- c('opinion_seas_vacc_effective', 'opinion_seas_risk', 'opinion_seas_sick_from_vacc')\n",
        "df_opinion_seas <- df_train_features[, cols_opinion_seas]\n",
        "head(df_opinion_seas, 3)"
      ],
      "metadata": {
        "colab": {
          "base_uri": "https://localhost:8080/",
          "height": 192
        },
        "id": "SOBpdmoTbUPi",
        "outputId": "115d8ddc-8ada-4255-b0f4-47b8072e68dc"
      },
      "execution_count": null,
      "outputs": [
        {
          "output_type": "display_data",
          "data": {
            "text/html": [
              "<table class=\"dataframe\">\n",
              "<caption>A data.frame: 3 × 3</caption>\n",
              "<thead>\n",
              "\t<tr><th></th><th scope=col>opinion_seas_vacc_effective</th><th scope=col>opinion_seas_risk</th><th scope=col>opinion_seas_sick_from_vacc</th></tr>\n",
              "\t<tr><th></th><th scope=col>&lt;int&gt;</th><th scope=col>&lt;int&gt;</th><th scope=col>&lt;int&gt;</th></tr>\n",
              "</thead>\n",
              "<tbody>\n",
              "\t<tr><th scope=row>1</th><td>2</td><td>1</td><td>2</td></tr>\n",
              "\t<tr><th scope=row>2</th><td>4</td><td>2</td><td>4</td></tr>\n",
              "\t<tr><th scope=row>3</th><td>4</td><td>1</td><td>2</td></tr>\n",
              "</tbody>\n",
              "</table>\n"
            ],
            "text/markdown": "\nA data.frame: 3 × 3\n\n| <!--/--> | opinion_seas_vacc_effective &lt;int&gt; | opinion_seas_risk &lt;int&gt; | opinion_seas_sick_from_vacc &lt;int&gt; |\n|---|---|---|---|\n| 1 | 2 | 1 | 2 |\n| 2 | 4 | 2 | 4 |\n| 3 | 4 | 1 | 2 |\n\n",
            "text/latex": "A data.frame: 3 × 3\n\\begin{tabular}{r|lll}\n  & opinion\\_seas\\_vacc\\_effective & opinion\\_seas\\_risk & opinion\\_seas\\_sick\\_from\\_vacc\\\\\n  & <int> & <int> & <int>\\\\\n\\hline\n\t1 & 2 & 1 & 2\\\\\n\t2 & 4 & 2 & 4\\\\\n\t3 & 4 & 1 & 2\\\\\n\\end{tabular}\n",
            "text/plain": [
              "  opinion_seas_vacc_effective opinion_seas_risk opinion_seas_sick_from_vacc\n",
              "1 2                           1                 2                          \n",
              "2 4                           2                 4                          \n",
              "3 4                           1                 2                          "
            ]
          },
          "metadata": {}
        }
      ]
    },
    {
      "cell_type": "code",
      "source": [
        "#create the opinion_seas columns\n",
        "\n",
        "df_train_features$opinion_seas <- apply(df_opinion_seas, 1, opinion_function)\n",
        "head(df_train_features, 5)        "
      ],
      "metadata": {
        "colab": {
          "base_uri": "https://localhost:8080/",
          "height": 344
        },
        "id": "3XF03fTwb__3",
        "outputId": "d6bce567-ff40-40b1-8dc1-e8302bd94d94"
      },
      "execution_count": null,
      "outputs": [
        {
          "output_type": "display_data",
          "data": {
            "text/html": [
              "<table class=\"dataframe\">\n",
              "<caption>A data.frame: 5 × 39</caption>\n",
              "<thead>\n",
              "\t<tr><th></th><th scope=col>respondent_id</th><th scope=col>h1n1_concern</th><th scope=col>h1n1_knowledge</th><th scope=col>behavioral_antiviral_meds</th><th scope=col>behavioral_avoidance</th><th scope=col>behavioral_face_mask</th><th scope=col>behavioral_wash_hands</th><th scope=col>behavioral_large_gatherings</th><th scope=col>behavioral_outside_home</th><th scope=col>behavioral_touch_face</th><th scope=col>⋯</th><th scope=col>employment_status</th><th scope=col>hhs_geo_region</th><th scope=col>census_msa</th><th scope=col>household_adults</th><th scope=col>household_children</th><th scope=col>employment_industry</th><th scope=col>employment_occupation</th><th scope=col>behaviors</th><th scope=col>opinion_h1n1</th><th scope=col>opinion_seas</th></tr>\n",
              "\t<tr><th></th><th scope=col>&lt;int&gt;</th><th scope=col>&lt;int&gt;</th><th scope=col>&lt;int&gt;</th><th scope=col>&lt;int&gt;</th><th scope=col>&lt;int&gt;</th><th scope=col>&lt;int&gt;</th><th scope=col>&lt;int&gt;</th><th scope=col>&lt;int&gt;</th><th scope=col>&lt;int&gt;</th><th scope=col>&lt;int&gt;</th><th scope=col>⋯</th><th scope=col>&lt;fct&gt;</th><th scope=col>&lt;fct&gt;</th><th scope=col>&lt;fct&gt;</th><th scope=col>&lt;int&gt;</th><th scope=col>&lt;int&gt;</th><th scope=col>&lt;fct&gt;</th><th scope=col>&lt;fct&gt;</th><th scope=col>&lt;int&gt;</th><th scope=col>&lt;int&gt;</th><th scope=col>&lt;int&gt;</th></tr>\n",
              "</thead>\n",
              "<tbody>\n",
              "\t<tr><th scope=row>1</th><td>0</td><td>1</td><td>0</td><td>0</td><td>0</td><td>0</td><td>0</td><td>0</td><td>1</td><td>1</td><td>⋯</td><td>Not in Labor Force</td><td>oxchjgsf</td><td>Non-MSA                 </td><td>0</td><td>0</td><td>        </td><td>        </td><td>0</td><td>2</td><td>2</td></tr>\n",
              "\t<tr><th scope=row>2</th><td>1</td><td>3</td><td>2</td><td>0</td><td>1</td><td>0</td><td>1</td><td>0</td><td>1</td><td>1</td><td>⋯</td><td>Employed          </td><td>bhuqouqj</td><td>MSA, Not Principle  City</td><td>0</td><td>0</td><td>pxcmvdjn</td><td>xgwztkwe</td><td>1</td><td>4</td><td>3</td></tr>\n",
              "\t<tr><th scope=row>3</th><td>2</td><td>1</td><td>1</td><td>0</td><td>1</td><td>0</td><td>0</td><td>0</td><td>0</td><td>0</td><td>⋯</td><td>Employed          </td><td>qufhixun</td><td>MSA, Not Principle  City</td><td>2</td><td>0</td><td>rucpziij</td><td>xtkaffoo</td><td>0</td><td>2</td><td>2</td></tr>\n",
              "\t<tr><th scope=row>4</th><td>3</td><td>1</td><td>1</td><td>0</td><td>1</td><td>0</td><td>1</td><td>1</td><td>0</td><td>0</td><td>⋯</td><td>Not in Labor Force</td><td>lrircsnp</td><td>MSA, Principle City     </td><td>0</td><td>0</td><td>        </td><td>        </td><td>0</td><td>4</td><td>3</td></tr>\n",
              "\t<tr><th scope=row>5</th><td>4</td><td>2</td><td>1</td><td>0</td><td>1</td><td>0</td><td>1</td><td>1</td><td>0</td><td>1</td><td>⋯</td><td>Employed          </td><td>qufhixun</td><td>MSA, Not Principle  City</td><td>1</td><td>0</td><td>wxleyezf</td><td>emcorrxb</td><td>1</td><td>3</td><td>3</td></tr>\n",
              "</tbody>\n",
              "</table>\n"
            ],
            "text/markdown": "\nA data.frame: 5 × 39\n\n| <!--/--> | respondent_id &lt;int&gt; | h1n1_concern &lt;int&gt; | h1n1_knowledge &lt;int&gt; | behavioral_antiviral_meds &lt;int&gt; | behavioral_avoidance &lt;int&gt; | behavioral_face_mask &lt;int&gt; | behavioral_wash_hands &lt;int&gt; | behavioral_large_gatherings &lt;int&gt; | behavioral_outside_home &lt;int&gt; | behavioral_touch_face &lt;int&gt; | ⋯ ⋯ | employment_status &lt;fct&gt; | hhs_geo_region &lt;fct&gt; | census_msa &lt;fct&gt; | household_adults &lt;int&gt; | household_children &lt;int&gt; | employment_industry &lt;fct&gt; | employment_occupation &lt;fct&gt; | behaviors &lt;int&gt; | opinion_h1n1 &lt;int&gt; | opinion_seas &lt;int&gt; |\n|---|---|---|---|---|---|---|---|---|---|---|---|---|---|---|---|---|---|---|---|---|---|\n| 1 | 0 | 1 | 0 | 0 | 0 | 0 | 0 | 0 | 1 | 1 | ⋯ | Not in Labor Force | oxchjgsf | Non-MSA                  | 0 | 0 | <!----> | <!----> | 0 | 2 | 2 |\n| 2 | 1 | 3 | 2 | 0 | 1 | 0 | 1 | 0 | 1 | 1 | ⋯ | Employed           | bhuqouqj | MSA, Not Principle  City | 0 | 0 | pxcmvdjn | xgwztkwe | 1 | 4 | 3 |\n| 3 | 2 | 1 | 1 | 0 | 1 | 0 | 0 | 0 | 0 | 0 | ⋯ | Employed           | qufhixun | MSA, Not Principle  City | 2 | 0 | rucpziij | xtkaffoo | 0 | 2 | 2 |\n| 4 | 3 | 1 | 1 | 0 | 1 | 0 | 1 | 1 | 0 | 0 | ⋯ | Not in Labor Force | lrircsnp | MSA, Principle City      | 0 | 0 | <!----> | <!----> | 0 | 4 | 3 |\n| 5 | 4 | 2 | 1 | 0 | 1 | 0 | 1 | 1 | 0 | 1 | ⋯ | Employed           | qufhixun | MSA, Not Principle  City | 1 | 0 | wxleyezf | emcorrxb | 1 | 3 | 3 |\n\n",
            "text/latex": "A data.frame: 5 × 39\n\\begin{tabular}{r|lllllllllllllllllllll}\n  & respondent\\_id & h1n1\\_concern & h1n1\\_knowledge & behavioral\\_antiviral\\_meds & behavioral\\_avoidance & behavioral\\_face\\_mask & behavioral\\_wash\\_hands & behavioral\\_large\\_gatherings & behavioral\\_outside\\_home & behavioral\\_touch\\_face & ⋯ & employment\\_status & hhs\\_geo\\_region & census\\_msa & household\\_adults & household\\_children & employment\\_industry & employment\\_occupation & behaviors & opinion\\_h1n1 & opinion\\_seas\\\\\n  & <int> & <int> & <int> & <int> & <int> & <int> & <int> & <int> & <int> & <int> & ⋯ & <fct> & <fct> & <fct> & <int> & <int> & <fct> & <fct> & <int> & <int> & <int>\\\\\n\\hline\n\t1 & 0 & 1 & 0 & 0 & 0 & 0 & 0 & 0 & 1 & 1 & ⋯ & Not in Labor Force & oxchjgsf & Non-MSA                  & 0 & 0 &          &          & 0 & 2 & 2\\\\\n\t2 & 1 & 3 & 2 & 0 & 1 & 0 & 1 & 0 & 1 & 1 & ⋯ & Employed           & bhuqouqj & MSA, Not Principle  City & 0 & 0 & pxcmvdjn & xgwztkwe & 1 & 4 & 3\\\\\n\t3 & 2 & 1 & 1 & 0 & 1 & 0 & 0 & 0 & 0 & 0 & ⋯ & Employed           & qufhixun & MSA, Not Principle  City & 2 & 0 & rucpziij & xtkaffoo & 0 & 2 & 2\\\\\n\t4 & 3 & 1 & 1 & 0 & 1 & 0 & 1 & 1 & 0 & 0 & ⋯ & Not in Labor Force & lrircsnp & MSA, Principle City      & 0 & 0 &          &          & 0 & 4 & 3\\\\\n\t5 & 4 & 2 & 1 & 0 & 1 & 0 & 1 & 1 & 0 & 1 & ⋯ & Employed           & qufhixun & MSA, Not Principle  City & 1 & 0 & wxleyezf & emcorrxb & 1 & 3 & 3\\\\\n\\end{tabular}\n",
            "text/plain": [
              "  respondent_id h1n1_concern h1n1_knowledge behavioral_antiviral_meds\n",
              "1 0             1            0              0                        \n",
              "2 1             3            2              0                        \n",
              "3 2             1            1              0                        \n",
              "4 3             1            1              0                        \n",
              "5 4             2            1              0                        \n",
              "  behavioral_avoidance behavioral_face_mask behavioral_wash_hands\n",
              "1 0                    0                    0                    \n",
              "2 1                    0                    1                    \n",
              "3 1                    0                    0                    \n",
              "4 1                    0                    1                    \n",
              "5 1                    0                    1                    \n",
              "  behavioral_large_gatherings behavioral_outside_home behavioral_touch_face ⋯\n",
              "1 0                           1                       1                     ⋯\n",
              "2 0                           1                       1                     ⋯\n",
              "3 0                           0                       0                     ⋯\n",
              "4 1                           0                       0                     ⋯\n",
              "5 1                           0                       1                     ⋯\n",
              "  employment_status  hhs_geo_region census_msa               household_adults\n",
              "1 Not in Labor Force oxchjgsf       Non-MSA                  0               \n",
              "2 Employed           bhuqouqj       MSA, Not Principle  City 0               \n",
              "3 Employed           qufhixun       MSA, Not Principle  City 2               \n",
              "4 Not in Labor Force lrircsnp       MSA, Principle City      0               \n",
              "5 Employed           qufhixun       MSA, Not Principle  City 1               \n",
              "  household_children employment_industry employment_occupation behaviors\n",
              "1 0                                                            0        \n",
              "2 0                  pxcmvdjn            xgwztkwe              1        \n",
              "3 0                  rucpziij            xtkaffoo              0        \n",
              "4 0                                                            0        \n",
              "5 0                  wxleyezf            emcorrxb              1        \n",
              "  opinion_h1n1 opinion_seas\n",
              "1 2            2           \n",
              "2 4            3           \n",
              "3 2            2           \n",
              "4 4            3           \n",
              "5 3            3           "
            ]
          },
          "metadata": {}
        }
      ]
    },
    {
      "cell_type": "markdown",
      "source": [
        "#6. Features' Selection"
      ],
      "metadata": {
        "id": "GWE2lLN-2j0h"
      }
    },
    {
      "cell_type": "code",
      "source": [
        ""
      ],
      "metadata": {
        "id": "XX-Fy4Yjb-gZ"
      },
      "execution_count": null,
      "outputs": []
    },
    {
      "cell_type": "markdown",
      "source": [
        ""
      ],
      "metadata": {
        "id": "sE1kuOy82j6a"
      }
    },
    {
      "cell_type": "markdown",
      "metadata": {
        "tags": [],
        "id": "hp6gLvfPrc1Y"
      },
      "source": [
        "# Model selection\n",
        "\n",
        "## Model 1\n",
        "\n",
        "## Model 2\n",
        "\n",
        "## Model 3\n",
        "\n",
        "#### Example of simple equation\n",
        "\\begin{equation}\n",
        "e = mc^2\n",
        "\\end{equation}\n",
        "\n",
        "#### Example of matrix equation - Cross product formula:\n",
        "\n",
        "\\begin{equation*}\n",
        "\\mathbf{V}_1 \\times \\mathbf{V}_2 =  \\begin{vmatrix}\n",
        "\\mathbf{i} & \\mathbf{j} & \\mathbf{k} \\\\\n",
        "\\frac{\\partial X}{\\partial u} &  \\frac{\\partial Y}{\\partial u} & 0 \\\\\n",
        "\\frac{\\partial X}{\\partial v} &  \\frac{\\partial Y}{\\partial v} & 0\n",
        "\\end{vmatrix}\n",
        "\\end{equation*}\n",
        "\n",
        "#### Example of multiline equation - The Lorenz Equations:\n",
        "\n",
        "\\begin{align}\n",
        "\\dot{x} & = \\sigma(y-x) \\\\\n",
        "\\dot{y} & = \\rho x - y - xz \\\\\n",
        "\\dot{z} & = -\\beta z + xy\n",
        "\\end{align}\n",
        "\n",
        "#### Example of Markdown Table:\n",
        "\n",
        "| This | is   |\n",
        "|------|------|\n",
        "|   a  | table|\n"
      ]
    },
    {
      "cell_type": "markdown",
      "metadata": {
        "id": "sKK6nQ2yrc1a"
      },
      "source": [
        "# Alternative models\n",
        "\n",
        "\n",
        "\n"
      ]
    },
    {
      "cell_type": "markdown",
      "metadata": {
        "id": "xM9alkgUrc1b"
      },
      "source": [
        "# Conclusions"
      ]
    }
  ],
  "metadata": {
    "kernelspec": {
      "display_name": "R",
      "language": "R",
      "name": "ir"
    },
    "language_info": {
      "codemirror_mode": "r",
      "file_extension": ".r",
      "mimetype": "text/x-r-source",
      "name": "R",
      "pygments_lexer": "r",
      "version": "4.0.3"
    },
    "colab": {
      "name": "final_ReportTemplate.ipynb",
      "provenance": [],
      "toc_visible": true,
      "collapsed_sections": [],
      "include_colab_link": true
    }
  },
  "nbformat": 4,
  "nbformat_minor": 0
}